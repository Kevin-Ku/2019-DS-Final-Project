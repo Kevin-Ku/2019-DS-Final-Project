{
 "cells": [
  {
   "cell_type": "code",
   "execution_count": 44,
   "metadata": {},
   "outputs": [],
   "source": [
    "%matplotlib inline\n",
    "import numpy as np\n",
    "import pandas as pd\n",
    "from sklearn import preprocessing\n",
    "from sklearn.model_selection import GridSearchCV\n",
    "import xgboost as xgb\n",
    "import matplotlib.pyplot as plt"
   ]
  },
  {
   "cell_type": "code",
   "execution_count": 24,
   "metadata": {},
   "outputs": [],
   "source": [
    "data = {\n",
    "    'tra':\n",
    "    pd.read_csv('air_visit_data.csv'),\n",
    "    'as':\n",
    "    pd.read_csv('air_store_info.csv'),\n",
    "    'hs':\n",
    "    pd.read_csv('hpg_store_info.csv'),\n",
    "    'ar':\n",
    "    pd.read_csv('air_reserve.csv'),\n",
    "    'hr':\n",
    "    pd.read_csv('hpg_reserve.csv'),\n",
    "    'id':\n",
    "    pd.read_csv('store_id_relation.csv'),\n",
    "    'tes':\n",
    "    pd.read_csv('sample_submission.csv'),\n",
    "    'hol':\n",
    "    pd.read_csv('date_info.csv').rename(columns={'calendar_date': 'visit_date'})\n",
    "}"
   ]
  },
  {
   "cell_type": "code",
   "execution_count": 25,
   "metadata": {},
   "outputs": [],
   "source": [
    "data['hr'] = pd.merge(data['hr'], data['id'], how='inner', on=['hpg_store_id'])"
   ]
  },
  {
   "cell_type": "code",
   "execution_count": 26,
   "metadata": {},
   "outputs": [
    {
     "name": "stdout",
     "output_type": "stream",
     "text": [
      "           air_store_id  visit_date  reserve_datetime_diff  reserve_visitors\n",
      "0  air_00a91d42b08b08d9  2016-10-31                      0                 2\n",
      "1  air_00a91d42b08b08d9  2016-12-05                      4                 9\n",
      "2  air_00a91d42b08b08d9  2016-12-14                      6                18\n",
      "3  air_00a91d42b08b08d9  2016-12-17                      6                 2\n",
      "4  air_00a91d42b08b08d9  2016-12-20                      2                 4\n",
      "           air_store_id  visit_date  reserve_datetime_diff  reserve_visitors\n",
      "0  air_00a91d42b08b08d9  2016-01-14                      3                 2\n",
      "1  air_00a91d42b08b08d9  2016-01-15                      6                 4\n",
      "2  air_00a91d42b08b08d9  2016-01-16                      3                 2\n",
      "3  air_00a91d42b08b08d9  2016-01-22                      3                 2\n",
      "4  air_00a91d42b08b08d9  2016-01-29                      6                 5\n"
     ]
    }
   ],
   "source": [
    "for df in ['ar', 'hr']:\n",
    "    data[df]['visit_datetime'] = pd.to_datetime(data[df]['visit_datetime'])\n",
    "    data[df]['visit_datetime'] = data[df]['visit_datetime'].dt.date\n",
    "    data[df]['reserve_datetime'] = pd.to_datetime(data[df]['reserve_datetime'])\n",
    "    data[df]['reserve_datetime'] = data[df]['reserve_datetime'].dt.date\n",
    "    data[df]['reserve_datetime_diff'] = data[df].apply(\n",
    "        lambda r: (r['visit_datetime'] - r['reserve_datetime']).days, axis=1)\n",
    "    data[df] = data[df].groupby(\n",
    "        ['air_store_id', 'visit_datetime'], as_index=False)[[\n",
    "            'reserve_datetime_diff', 'reserve_visitors'\n",
    "        ]].sum().rename(columns={\n",
    "            'visit_datetime': 'visit_date'\n",
    "        })\n",
    "    print(data[df].head())"
   ]
  },
  {
   "cell_type": "code",
   "execution_count": 27,
   "metadata": {},
   "outputs": [],
   "source": [
    "data['tra']['visit_date'] = pd.to_datetime(data['tra']['visit_date'])\n",
    "data['tra']['dow'] = data['tra']['visit_date'].dt.dayofweek\n",
    "data['tra']['year'] = data['tra']['visit_date'].dt.year\n",
    "data['tra']['month'] = data['tra']['visit_date'].dt.month\n",
    "data['tra']['visit_date'] = data['tra']['visit_date'].dt.date"
   ]
  },
  {
   "cell_type": "code",
   "execution_count": 28,
   "metadata": {},
   "outputs": [],
   "source": [
    "data['tes']['visit_date'] = data['tes']['id'].map(lambda x: str(x).split('_')[2])\n",
    "data['tes']['air_store_id'] = data['tes']['id'].map(lambda x: '_'.join(x.split('_')[:2]))\n",
    "data['tes']['visit_date'] = pd.to_datetime(data['tes']['visit_date'])\n",
    "data['tes']['dow'] = data['tes']['visit_date'].dt.dayofweek\n",
    "data['tes']['year'] = data['tes']['visit_date'].dt.year\n",
    "data['tes']['month'] = data['tes']['visit_date'].dt.month\n",
    "data['tes']['visit_date'] = data['tes']['visit_date'].dt.date"
   ]
  },
  {
   "cell_type": "code",
   "execution_count": 29,
   "metadata": {},
   "outputs": [],
   "source": [
    "unique_stores = data['tes']['air_store_id'].unique()\n",
    "stores = pd.concat(\n",
    "    [\n",
    "        pd.DataFrame({\n",
    "            'air_store_id': unique_stores,\n",
    "            'dow': [i] * len(unique_stores)\n",
    "        }) for i in range(7)\n",
    "    ],\n",
    "    axis=0,\n",
    "    ignore_index=True).reset_index(drop=True)"
   ]
  },
  {
   "cell_type": "code",
   "execution_count": 30,
   "metadata": {},
   "outputs": [],
   "source": [
    "tmp = data['tra'].groupby(\n",
    "    ['air_store_id', 'dow'],\n",
    "    as_index=False)['visitors'].min().rename(columns={\n",
    "        'visitors': 'min_visitors'\n",
    "    })"
   ]
  },
  {
   "cell_type": "code",
   "execution_count": 31,
   "metadata": {},
   "outputs": [],
   "source": [
    "stores = pd.merge(stores, tmp, how='left', on=['air_store_id', 'dow'])"
   ]
  },
  {
   "cell_type": "code",
   "execution_count": 32,
   "metadata": {},
   "outputs": [],
   "source": [
    "tmp = data['tra'].groupby(\n",
    "    ['air_store_id', 'dow'],\n",
    "    as_index=False)['visitors'].mean().rename(columns={\n",
    "        'visitors': 'mean_visitors'\n",
    "    })\n",
    "stores = pd.merge(stores, tmp, how='left', on=['air_store_id', 'dow'])\n",
    "tmp = data['tra'].groupby(\n",
    "    ['air_store_id', 'dow'],\n",
    "    as_index=False)['visitors'].median().rename(columns={\n",
    "        'visitors': 'median_visitors'\n",
    "    })\n",
    "stores = pd.merge(stores, tmp, how='left', on=['air_store_id', 'dow'])\n",
    "tmp = data['tra'].groupby(\n",
    "    ['air_store_id', 'dow'],\n",
    "    as_index=False)['visitors'].max().rename(columns={\n",
    "        'visitors': 'max_visitors'\n",
    "    })\n",
    "stores = pd.merge(stores, tmp, how='left', on=['air_store_id', 'dow'])\n",
    "tmp = data['tra'].groupby(\n",
    "    ['air_store_id', 'dow'],\n",
    "    as_index=False)['visitors'].count().rename(columns={\n",
    "        'visitors': 'count_observations'\n",
    "    })\n",
    "stores = pd.merge(stores, tmp, how='left', on=['air_store_id', 'dow'])"
   ]
  },
  {
   "cell_type": "code",
   "execution_count": 33,
   "metadata": {},
   "outputs": [],
   "source": [
    "stores = pd.merge(stores, data['as'], how='left', on=['air_store_id'])\n",
    "lbl = preprocessing.LabelEncoder()\n",
    "stores['air_genre_name'] = lbl.fit_transform(stores['air_genre_name'])\n",
    "stores['air_area_name'] = lbl.fit_transform(stores['air_area_name'])"
   ]
  },
  {
   "cell_type": "code",
   "execution_count": 34,
   "metadata": {},
   "outputs": [],
   "source": [
    "data['hol']['visit_date'] = pd.to_datetime(data['hol']['visit_date'])\n",
    "data['hol']['day_of_week'] = lbl.fit_transform(data['hol']['day_of_week'])\n",
    "data['hol']['visit_date'] = data['hol']['visit_date'].dt.date"
   ]
  },
  {
   "cell_type": "code",
   "execution_count": 35,
   "metadata": {},
   "outputs": [],
   "source": [
    "train = pd.merge(data['tra'], data['hol'], how='left', on=['visit_date'])\n",
    "test = pd.merge(data['tes'], data['hol'], how='left', on=['visit_date'])\n",
    "\n",
    "train = pd.merge(data['tra'], stores, how='left', on=['air_store_id', 'dow'])\n",
    "test = pd.merge(data['tes'], stores, how='left', on=['air_store_id', 'dow'])"
   ]
  },
  {
   "cell_type": "code",
   "execution_count": 36,
   "metadata": {},
   "outputs": [],
   "source": [
    "for df in ['ar', 'hr']:\n",
    "    train = pd.merge(\n",
    "        train, data[df], how='left', on=['air_store_id', 'visit_date'])\n",
    "    test = pd.merge(\n",
    "        test, data[df], how='left', on=['air_store_id', 'visit_date'])\n",
    "\n",
    "col = [\n",
    "    c for c in train\n",
    "    if c not in ['id', 'air_store_id', 'visit_date', 'visitors']\n",
    "]\n",
    "train = train.fillna(-1)\n",
    "test = test.fillna(-1)"
   ]
  },
  {
   "cell_type": "code",
   "execution_count": 37,
   "metadata": {},
   "outputs": [
    {
     "name": "stdout",
     "output_type": "stream",
     "text": [
      "Binding to float32\n"
     ]
    }
   ],
   "source": [
    "print('Binding to float32')"
   ]
  },
  {
   "cell_type": "code",
   "execution_count": 38,
   "metadata": {},
   "outputs": [],
   "source": [
    "for c, dtype in zip(train.columns, train.dtypes):\n",
    "    if dtype == np.float64:\n",
    "        train[c] = train[c].astype(np.float32)"
   ]
  },
  {
   "cell_type": "code",
   "execution_count": 39,
   "metadata": {},
   "outputs": [],
   "source": [
    "for c, dtype in zip(test.columns, test.dtypes):\n",
    "    if dtype == np.float64:\n",
    "        test[c] = test[c].astype(np.float32)"
   ]
  },
  {
   "cell_type": "code",
   "execution_count": 40,
   "metadata": {},
   "outputs": [
    {
     "name": "stdout",
     "output_type": "stream",
     "text": [
      "(252108, 16) (252108,)\n"
     ]
    }
   ],
   "source": [
    "train_x = train.drop(['air_store_id', 'visit_date', 'visitors'], axis=1)\n",
    "train_y = np.log1p(train['visitors'].values)\n",
    "print(train_x.shape, train_y.shape)\n",
    "test_x = test.drop(['id', 'air_store_id', 'visit_date', 'visitors'], axis=1)"
   ]
  },
  {
   "cell_type": "code",
   "execution_count": 41,
   "metadata": {},
   "outputs": [],
   "source": [
    "boost_params = {'eval_metric': 'rmse'}\n",
    "xgb0 = xgb.XGBRegressor(\n",
    "    max_depth=8,\n",
    "    learning_rate=0.01,\n",
    "    n_estimators=10000,\n",
    "    objective='reg:linear',\n",
    "    gamma=0,\n",
    "    min_child_weight=1,\n",
    "    subsample=1,\n",
    "    colsample_bytree=1,\n",
    "    scale_pos_weight=1,\n",
    "    seed=27,\n",
    "    **boost_params)"
   ]
  },
  {
   "cell_type": "code",
   "execution_count": 42,
   "metadata": {},
   "outputs": [
    {
     "name": "stdout",
     "output_type": "stream",
     "text": [
      "[22:48:17] WARNING: src/objective/regression_obj.cu:152: reg:linear is now deprecated in favor of reg:squarederror.\n"
     ]
    }
   ],
   "source": [
    "xgb0.fit(train_x, train_y)\n",
    "predict_y = xgb0.predict(test_x)\n",
    "test['visitors'] = np.expm1(predict_y)\n",
    "test[['id', 'visitors']].to_csv(\n",
    "    'xgb0_submission.csv', index=False, float_format='%.3f')"
   ]
  },
  {
   "cell_type": "code",
   "execution_count": 43,
   "metadata": {},
   "outputs": [
    {
     "name": "stdout",
     "output_type": "stream",
     "text": [
      "                                    id   visitors  visit_date  \\\n",
      "0      air_00a91d42b08b08d9_2017-04-23   2.152977  2017-04-23   \n",
      "1      air_00a91d42b08b08d9_2017-04-24  21.426897  2017-04-24   \n",
      "2      air_00a91d42b08b08d9_2017-04-25  22.978199  2017-04-25   \n",
      "3      air_00a91d42b08b08d9_2017-04-26  28.513926  2017-04-26   \n",
      "4      air_00a91d42b08b08d9_2017-04-27  30.379351  2017-04-27   \n",
      "...                                ...        ...         ...   \n",
      "32014  air_fff68b929994bfbd_2017-05-27   6.830283  2017-05-27   \n",
      "32015  air_fff68b929994bfbd_2017-05-28   3.532686  2017-05-28   \n",
      "32016  air_fff68b929994bfbd_2017-05-29   3.375839  2017-05-29   \n",
      "32017  air_fff68b929994bfbd_2017-05-30   3.794607  2017-05-30   \n",
      "32018  air_fff68b929994bfbd_2017-05-31   3.873036  2017-05-31   \n",
      "\n",
      "               air_store_id  dow  year  month  min_visitors  mean_visitors  \\\n",
      "0      air_00a91d42b08b08d9    6  2017      4           2.0       2.000000   \n",
      "1      air_00a91d42b08b08d9    0  2017      4           1.0      22.457144   \n",
      "2      air_00a91d42b08b08d9    1  2017      4           1.0      24.350000   \n",
      "3      air_00a91d42b08b08d9    2  2017      4          15.0      28.125000   \n",
      "4      air_00a91d42b08b08d9    3  2017      4          15.0      29.868422   \n",
      "...                     ...  ...   ...    ...           ...            ...   \n",
      "32014  air_fff68b929994bfbd    5  2017      5           2.0       7.439024   \n",
      "32015  air_fff68b929994bfbd    6  2017      5           1.0       4.000000   \n",
      "32016  air_fff68b929994bfbd    0  2017      5           1.0       4.200000   \n",
      "32017  air_fff68b929994bfbd    1  2017      5           1.0       4.526316   \n",
      "32018  air_fff68b929994bfbd    2  2017      5           1.0       4.634146   \n",
      "\n",
      "       median_visitors  max_visitors  count_observations  air_genre_name  \\\n",
      "0                  2.0           2.0                 1.0               6   \n",
      "1                 19.0          47.0                35.0               6   \n",
      "2                 24.5          43.0                40.0               6   \n",
      "3                 28.0          52.0                40.0               6   \n",
      "4                 30.0          47.0                38.0               6   \n",
      "...                ...           ...                 ...             ...   \n",
      "32014              7.0          18.0                41.0               1   \n",
      "32015              3.5          10.0                30.0               1   \n",
      "32016              4.0          14.0                35.0               1   \n",
      "32017              4.0          11.0                38.0               1   \n",
      "32018              4.0          12.0                41.0               1   \n",
      "\n",
      "       air_area_name   latitude   longitude  reserve_datetime_diff_x  \\\n",
      "0                 58  35.694004  139.753601                     -1.0   \n",
      "1                 58  35.694004  139.753601                     -1.0   \n",
      "2                 58  35.694004  139.753601                     -1.0   \n",
      "3                 58  35.694004  139.753601                     -1.0   \n",
      "4                 58  35.694004  139.753601                     -1.0   \n",
      "...              ...        ...         ...                      ...   \n",
      "32014             79  35.708145  139.666290                     -1.0   \n",
      "32015             79  35.708145  139.666290                     -1.0   \n",
      "32016             79  35.708145  139.666290                     -1.0   \n",
      "32017             79  35.708145  139.666290                     -1.0   \n",
      "32018             79  35.708145  139.666290                     -1.0   \n",
      "\n",
      "       reserve_visitors_x  reserve_datetime_diff_y  reserve_visitors_y  \n",
      "0                    -1.0                     -1.0                -1.0  \n",
      "1                    -1.0                     -1.0                -1.0  \n",
      "2                    -1.0                     -1.0                -1.0  \n",
      "3                    -1.0                     -1.0                -1.0  \n",
      "4                    -1.0                     -1.0                -1.0  \n",
      "...                   ...                      ...                 ...  \n",
      "32014                -1.0                     -1.0                -1.0  \n",
      "32015                -1.0                     -1.0                -1.0  \n",
      "32016                -1.0                     -1.0                -1.0  \n",
      "32017                -1.0                     -1.0                -1.0  \n",
      "32018                -1.0                     -1.0                -1.0  \n",
      "\n",
      "[32019 rows x 20 columns]\n"
     ]
    }
   ],
   "source": [
    "print(test)"
   ]
  },
  {
   "cell_type": "code",
   "execution_count": 47,
   "metadata": {},
   "outputs": [
    {
     "data": {
      "text/plain": [
       "<matplotlib.axes._subplots.AxesSubplot at 0x2e6aa29add8>"
      ]
     },
     "execution_count": 47,
     "metadata": {},
     "output_type": "execute_result"
    },
    {
     "data": {
      "image/png": "[encoded data removed]",
      "text/plain": [
       "<Figure size 432x288 with 1 Axes>"
      ]
     },
     "metadata": {
      "needs_background": "light"
     },
     "output_type": "display_data"
    }
   ],
   "source": [
    "test.plot()"
   ]
  },
  {
   "cell_type": "code",
   "execution_count": null,
   "metadata": {},
   "outputs": [],
   "source": []
  }
 ],
 "metadata": {
  "kernelspec": {
   "display_name": "Python 3",
   "language": "python",
   "name": "python3"
  },
  "language_info": {
   "codemirror_mode": {
    "name": "ipython",
    "version": 3
   },
   "file_extension": ".py",
   "mimetype": "text/x-python",
   "name": "python",
   "nbconvert_exporter": "python",
   "pygments_lexer": "ipython3",
   "version": "3.7.3"
  }
 },
 "nbformat": 4,
 "nbformat_minor": 2
}
